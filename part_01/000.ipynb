{
 "nbformat": 4,
 "nbformat_minor": 2,
 "metadata": {
  "language_info": {
   "name": "python",
   "codemirror_mode": {
    "name": "ipython",
    "version": 3
   },
   "version": "3.7.3-final"
  },
  "orig_nbformat": 2,
  "file_extension": ".py",
  "mimetype": "text/x-python",
  "name": "python",
  "npconvert_exporter": "python",
  "pygments_lexer": "ipython3",
  "version": 3,
  "kernelspec": {
   "name": "python3",
   "display_name": "Python 3"
  }
 },
 "cells": [
  {
   "cell_type": "code",
   "execution_count": 8,
   "metadata": {},
   "outputs": [
    {
     "data": {
      "text/plain": "'desserts'"
     },
     "execution_count": 8,
     "metadata": {},
     "output_type": "execute_result"
    }
   ],
   "source": [
    "str_ = \"stressed\"\n",
    "str_[::-1]"
   ]
  },
  {
   "cell_type": "code",
   "execution_count": 9,
   "metadata": {},
   "outputs": [
    {
     "data": {
      "text/plain": "'パトカー'"
     },
     "execution_count": 9,
     "metadata": {},
     "output_type": "execute_result"
    }
   ],
   "source": [
    "str_01 = \"パタトクカシーー\"\n",
    "str_01[::2]"
   ]
  },
  {
   "cell_type": "code",
   "execution_count": 10,
   "metadata": {},
   "outputs": [
    {
     "data": {
      "text/plain": "'パタトクカシーー'"
     },
     "execution_count": 10,
     "metadata": {},
     "output_type": "execute_result"
    }
   ],
   "source": [
    "str_02p, str_02t = str_01[::2], str_01[1::2]\n",
    "str_02 = \"\"\n",
    "for (p, s) in zip(str_02p, str_02t):\n",
    "    str_02 += p + s\n",
    "\n",
    "str_02"
   ]
  },
  {
   "cell_type": "code",
   "execution_count": 17,
   "metadata": {},
   "outputs": [
    {
     "data": {
      "text/plain": "['I',\n 'a',\n 'of',\n 'Now',\n 'the',\n 'need',\n 'drink',\n 'after',\n 'heavy',\n 'course',\n 'quantum',\n 'lectures',\n 'alcoholic',\n 'involving',\n 'mechanics']"
     },
     "execution_count": 17,
     "metadata": {},
     "output_type": "execute_result"
    }
   ],
   "source": [
    "str_03 = \"Now I need a drink, alcoholic of course, after the heavy lectures involving quantum mechanics.\"\n",
    "str_split = list(map(str, str_03.replace(\",\",\"\").replace(\".\",\"\").split(\" \")))\n",
    "sorted(str_split, key=len)"
   ]
  },
  {
   "cell_type": "code",
   "execution_count": 19,
   "metadata": {},
   "outputs": [
    {
     "data": {
      "text/plain": "{'H': 0,\n 'He': 1,\n 'Li': 2,\n 'Be': 3,\n 'B': 4,\n 'C': 5,\n 'N': 6,\n 'O': 7,\n 'F': 8,\n 'Ne': 9,\n 'Na': 10,\n 'Mi': 11,\n 'Al': 12,\n 'Si': 13,\n 'P': 14,\n 'S': 15,\n 'Cl': 16,\n 'Ar': 17,\n 'K': 18,\n 'Ca': 19}"
     },
     "execution_count": 19,
     "metadata": {},
     "output_type": "execute_result"
    }
   ],
   "source": [
    "str_04 = \"Hi He Lied Because Boron Could Not Oxidize Fluorine. New Nations Might Also Sign Peace Security Clause. Arthur King Can.\"\n",
    "str_split = list(map(str, str_04.replace(\",\",\"\").replace(\".\",\"\").split(\" \")))\n",
    "dir_04 = {}\n",
    "for i, s in enumerate(str_split):\n",
    "    if i + 1 in [1, 5, 6, 7, 8, 9, 15, 16, 19]:\n",
    "        dir_04[s[0]] = i\n",
    "    else:\n",
    "        dir_04[s[:2]] = i\n",
    "dir_04"
   ]
  },
  {
   "cell_type": "code",
   "execution_count": 20,
   "metadata": {},
   "outputs": [
    {
     "name": "stdout",
     "output_type": "stream",
     "text": "['Iam', 'aman', 'anNLPer']\n['Ia', 'am', 'ma', 'an', 'nN', 'NL', 'LP', 'Pe', 'er']\n"
    }
   ],
   "source": [
    "def bigram_char(s):\n",
    "    str_list = list(map(str, s.split(\" \")))\n",
    "    ans = []\n",
    "    for i in range(len(str_list)-1):\n",
    "        ans.append(str_list[i] + str_list[i + 1])\n",
    "    print(ans)\n",
    "\n",
    "def bigram_word(s):\n",
    "    str_list = list(map(str, s.replace(\" \", \"\")))\n",
    "    ans = []\n",
    "    for i in range(len(str_list)-1):\n",
    "        ans.append(str_list[i] + str_list[i + 1])\n",
    "    print(ans)\n",
    "\n",
    "bigram_char(\"I am an NLPer\")\n",
    "bigram_word(\"I am an NLPer\")"
   ]
  },
  {
   "cell_type": "code",
   "execution_count": null,
   "metadata": {},
   "outputs": [],
   "source": []
  }
 ]
}