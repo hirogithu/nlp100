{
 "nbformat": 4,
 "nbformat_minor": 2,
 "metadata": {
  "language_info": {
   "name": "python",
   "codemirror_mode": {
    "name": "ipython",
    "version": 3
   },
   "version": "3.6.9-final"
  },
  "orig_nbformat": 2,
  "file_extension": ".py",
  "mimetype": "text/x-python",
  "name": "python",
  "npconvert_exporter": "python",
  "pygments_lexer": "ipython3",
  "version": 3,
  "kernelspec": {
   "name": "python3",
   "display_name": "Python 3"
  }
 },
 "cells": [
  {
   "cell_type": "markdown",
   "metadata": {},
   "source": [
    "000"
   ]
  },
  {
   "cell_type": "code",
   "execution_count": 8,
   "metadata": {},
   "outputs": [
    {
     "data": {
      "text/plain": "'desserts'"
     },
     "execution_count": 8,
     "metadata": {},
     "output_type": "execute_result"
    }
   ],
   "source": [
    "str_ = \"stressed\"\n",
    "str_[::-1]"
   ]
  },
  {
   "cell_type": "markdown",
   "metadata": {},
   "source": [
    "001"
   ]
  },
  {
   "cell_type": "code",
   "execution_count": 9,
   "metadata": {},
   "outputs": [
    {
     "data": {
      "text/plain": "'パトカー'"
     },
     "execution_count": 9,
     "metadata": {},
     "output_type": "execute_result"
    }
   ],
   "source": [
    "str_01 = \"パタトクカシーー\"\n",
    "str_01[::2]"
   ]
  },
  {
   "cell_type": "markdown",
   "metadata": {},
   "source": [
    "002"
   ]
  },
  {
   "cell_type": "code",
   "execution_count": 10,
   "metadata": {},
   "outputs": [
    {
     "data": {
      "text/plain": "'パタトクカシーー'"
     },
     "execution_count": 10,
     "metadata": {},
     "output_type": "execute_result"
    }
   ],
   "source": [
    "str_02p, str_02t = str_01[::2], str_01[1::2]\n",
    "str_02 = \"\"\n",
    "for (p, s) in zip(str_02p, str_02t):\n",
    "    str_02 += p + s\n",
    "\n",
    "str_02"
   ]
  },
  {
   "cell_type": "markdown",
   "metadata": {},
   "source": [
    "003"
   ]
  },
  {
   "cell_type": "code",
   "execution_count": 17,
   "metadata": {},
   "outputs": [
    {
     "data": {
      "text/plain": "['I',\n 'a',\n 'of',\n 'Now',\n 'the',\n 'need',\n 'drink',\n 'after',\n 'heavy',\n 'course',\n 'quantum',\n 'lectures',\n 'alcoholic',\n 'involving',\n 'mechanics']"
     },
     "execution_count": 17,
     "metadata": {},
     "output_type": "execute_result"
    }
   ],
   "source": [
    "str_03 = \"Now I need a drink, alcoholic of course, after the heavy lectures involving quantum mechanics.\"\n",
    "str_split = list(map(str, str_03.replace(\",\",\"\").replace(\".\",\"\").split(\" \")))\n",
    "sorted(str_split, key=len)"
   ]
  },
  {
   "cell_type": "markdown",
   "metadata": {},
   "source": [
    "004"
   ]
  },
  {
   "cell_type": "code",
   "execution_count": 19,
   "metadata": {},
   "outputs": [
    {
     "data": {
      "text/plain": "{'H': 0,\n 'He': 1,\n 'Li': 2,\n 'Be': 3,\n 'B': 4,\n 'C': 5,\n 'N': 6,\n 'O': 7,\n 'F': 8,\n 'Ne': 9,\n 'Na': 10,\n 'Mi': 11,\n 'Al': 12,\n 'Si': 13,\n 'P': 14,\n 'S': 15,\n 'Cl': 16,\n 'Ar': 17,\n 'K': 18,\n 'Ca': 19}"
     },
     "execution_count": 19,
     "metadata": {},
     "output_type": "execute_result"
    }
   ],
   "source": [
    "str_04 = \"Hi He Lied Because Boron Could Not Oxidize Fluorine. New Nations Might Also Sign Peace Security Clause. Arthur King Can.\"\n",
    "str_split = list(map(str, str_04.replace(\",\",\"\").replace(\".\",\"\").split(\" \")))\n",
    "dir_04 = {}\n",
    "for i, s in enumerate(str_split):\n",
    "    if i + 1 in [1, 5, 6, 7, 8, 9, 15, 16, 19]:\n",
    "        dir_04[s[0]] = i\n",
    "    else:\n",
    "        dir_04[s[:2]] = i\n",
    "dir_04"
   ]
  },
  {
   "cell_type": "markdown",
   "metadata": {},
   "source": [
    "005"
   ]
  },
  {
   "cell_type": "code",
   "execution_count": 8,
   "metadata": {},
   "outputs": [
    {
     "name": "stdout",
     "output_type": "stream",
     "text": "['Iam', 'aman', 'anNLPer']\n['Ia', 'am', 'ma', 'an', 'nN', 'NL', 'LP', 'Pe', 'er']\n"
    }
   ],
   "source": [
    "def bigram_word(s):\n",
    "    str_list = list(map(str, s.split(\" \")))\n",
    "    ans = []\n",
    "    for i in range(len(str_list)-1):\n",
    "        ans.append(str_list[i] + str_list[i + 1])\n",
    "    return ans\n",
    "\n",
    "def bigram_char(s):\n",
    "    str_list = list(map(str, s.replace(\" \", \"\")))\n",
    "    ans = []\n",
    "    for i in range(len(str_list)-1):\n",
    "        ans.append(str_list[i] + str_list[i + 1])\n",
    "    return ans\n",
    "\n",
    "print(bigram_word(\"I am an NLPer\"))\n",
    "print(bigram_char(\"I am an NLPer\"))"
   ]
  },
  {
   "cell_type": "markdown",
   "metadata": {},
   "source": [
    "006"
   ]
  },
  {
   "cell_type": "code",
   "execution_count": 23,
   "metadata": {},
   "outputs": [
    {
     "data": {
      "text/plain": "({'ad', 'ap', 'ar', 'di', 'is', 'pa', 'ra', 'se'},\n {'ag', 'ap', 'ar', 'gr', 'pa', 'ph', 'ra'},\n {'ad', 'ag', 'ap', 'ar', 'di', 'gr', 'is', 'pa', 'ph', 'ra', 'se'},\n {'ap', 'ar', 'pa', 'ra'},\n {'ad', 'di', 'is', 'se'})"
     },
     "execution_count": 23,
     "metadata": {},
     "output_type": "execute_result"
    }
   ],
   "source": [
    "x = set(bigram_char(\"paraparaparadise\"))\n",
    "y = set(bigram_char(\"paragraph\"))\n",
    "x, y, x|y, x&y, x-y"
   ]
  },
  {
   "cell_type": "markdown",
   "metadata": {},
   "source": [
    "007"
   ]
  },
  {
   "cell_type": "code",
   "execution_count": 24,
   "metadata": {},
   "outputs": [
    {
     "name": "stdout",
     "output_type": "stream",
     "text": "12時の気温は22.4\n"
    }
   ],
   "source": [
    "def gen_text(x, y, z):\n",
    "    print(\"{}時の{}は{}\".format(x, y, z))\n",
    "gen_text(12, \"気温\", 22.4)"
   ]
  },
  {
   "cell_type": "markdown",
   "metadata": {},
   "source": [
    "008"
   ]
  },
  {
   "cell_type": "code",
   "execution_count": 43,
   "metadata": {},
   "outputs": [
    {
     "name": "stdout",
     "output_type": "stream",
     "text": "暗号化 AAzA\n復号化 AAaA\n"
    }
   ],
   "source": [
    "def cipher(x):\n",
    "    for i, xi in enumerate(x):\n",
    "        if xi.islower():\n",
    "            x = x.replace(xi, chr(219-ord(xi)))\n",
    "    return x\n",
    "print(\"暗号化\", cipher(input()))\n",
    "print(\"復号化\", cipher(cipher(input())))"
   ]
  },
  {
   "cell_type": "markdown",
   "metadata": {},
   "source": [
    "009"
   ]
  },
  {
   "cell_type": "code",
   "execution_count": 59,
   "metadata": {},
   "outputs": [],
   "source": [
    "import random"
   ]
  },
  {
   "cell_type": "code",
   "execution_count": 61,
   "metadata": {},
   "outputs": [
    {
     "name": "stdout",
     "output_type": "stream",
     "text": "I cdl'uont biveele that I cluod acluatly ursanendtd what I was rdianeg : the pnoeeamhnl power of the haumn mind .\n"
    }
   ],
   "source": [
    "def typoglycemia(x):\n",
    "    words = x.replace(\".\", \" .\").split(\" \")\n",
    "    for i, word in enumerate(words):\n",
    "        if len(word) > 4:\n",
    "            words[i] = word[0] + \"\".join(random.sample(word[1:-1], len(word) - 2)) + word[-1]\n",
    "    print(\" \".join(words))\n",
    "typoglycemia(\"I couldn't believe that I could actually understand what I was reading : the phenomenal power of the human mind.\")"
   ]
  }
 ]
}